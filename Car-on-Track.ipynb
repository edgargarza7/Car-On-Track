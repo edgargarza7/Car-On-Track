{
 "cells": [
  {
   "cell_type": "markdown",
   "metadata": {},
   "source": [
    "# _AutoAuto_ Self-driving Car\n",
    "\n",
    "Let's use _Machine Learning_ (specifically, an _Artificial Neural Network_) to drive the _AutoAuto_ car around a track.\n",
    "\n",
    "![](images/car.jpg)"
   ]
  },
  {
   "cell_type": "markdown",
   "metadata": {},
   "source": [
    "### What is Machine Learning?\n",
    "\n",
    "_Machine Learning_ (ML) is a subfield of _Artificial Intelligence_. ML algorithms use training data to learn patters. **We** write the learning algorithm, then we feed training data into the algorithm so that it can \"learn\".\n",
    "\n",
    "ML is useful for:\n",
    "1. Having our computers detect patters which we humans **can't** detect, or\n",
    "2. Having our computers do tasks which are **boring** for us to do.\n",
    "\n",
    "Read more on [Wikipedia](https://en.wikipedia.org/wiki/Machine_learning).\n",
    "\n",
    "![](images/ml.jpg)"
   ]
  },
  {
   "cell_type": "markdown",
   "metadata": {},
   "source": [
    "### Training Data\n",
    "\n",
    "We collected over 8,000 images by manually driving the car around on the track. Every time an image was taken, the angle of the wheels was also recorded! That means we have over 8,000 image/angle pairs which were used to train the machine learning algorithm.\n",
    "\n",
    "Here are a few examples from the training set. The number above each image denotes the angle of the wheels at the moment the image was taken (positive is _left_, negative is _right_).\n",
    "\n",
    "![](images/samples.png)"
   ]
  },
  {
   "cell_type": "markdown",
   "metadata": {},
   "source": [
    "### Preprocessing\n",
    "\n",
    "Before using the training images, we _preprocess_ them to remove some of the noise which is irrelevent for driving.\n",
    "\n",
    "See below how each of the examples images is preprocessed. Notice how we:\n",
    "1. crop the image,\n",
    "2. remove the color and,\n",
    "3. only keep strong edges!\n",
    "\n",
    "![](images/samples_preprocessed.png)"
   ]
  },
  {
   "cell_type": "markdown",
   "metadata": {},
   "source": [
    "### What is an Artificial Neural Network?\n",
    "\n",
    "An _Artificial Neural Network_ is one machine learning algorithm which usually does a good job of learning from image data like we have here!\n",
    "\n",
    "Neural Networks contain many little neurons which are connected together into layers. Using an algorithm nicknamed \"backprop\", the neural network learns from the training data.\n",
    "\n",
    "Read more on [Wikipedia](https://en.wikipedia.org/wiki/Machine_learning#Artificial_neural_networks).\n",
    "\n",
    "![](images/ann_alt.png)"
   ]
  },
  {
   "cell_type": "markdown",
   "metadata": {},
   "source": [
    "### Load the necessary Python libraries\n",
    "\n",
    "The next cell loads the TensorFlow library. TensorFlow is a library which does very fast numeric operations. (Google primarily supports Tensorflow; thanks Google!)"
   ]
  },
  {
   "cell_type": "code",
   "execution_count": 1,
   "metadata": {},
   "outputs": [
    {
     "name": "stderr",
     "output_type": "stream",
     "text": [
      "/opt/berryconda3/bc3/envs/tensorflow/lib/python3.5/site-packages/h5py/__init__.py:36: FutureWarning: Conversion of the second argument of issubdtype from `float` to `np.floating` is deprecated. In future, it will be treated as `np.float64 == np.dtype(float).type`.\n",
      "  from ._conv import register_converters as _register_converters\n"
     ]
    }
   ],
   "source": [
    "from tensorflow import keras\n",
    "from tensorflow.keras.models import load_model"
   ]
  },
  {
   "cell_type": "markdown",
   "metadata": {},
   "source": [
    "The next cell loads the `OpenCV` library. OpenCV is used for doing image processing and computer vision. (Intel primarily supports OpenCV; thanks Intel!)"
   ]
  },
  {
   "cell_type": "code",
   "execution_count": 2,
   "metadata": {},
   "outputs": [],
   "source": [
    "import numpy as np\n",
    "import cv2\n",
    "\n",
    "cv2.setNumThreads(0)   # <-- disable multithreading in opencv"
   ]
  },
  {
   "cell_type": "markdown",
   "metadata": {},
   "source": [
    "The next cell loads the car library! (Thanks AutoAuto!)"
   ]
  },
  {
   "cell_type": "code",
   "execution_count": 3,
   "metadata": {},
   "outputs": [],
   "source": [
    "import car\n",
    "from car.motors import set_throttle, set_steering, CAR_THROTTLE_FORWARD_SAFE_SPEED\n",
    "\n",
    "from auto.camera import CameraRGB"
   ]
  },
  {
   "cell_type": "markdown",
   "metadata": {},
   "source": [
    "Plus we need a few other imports:"
   ]
  },
  {
   "cell_type": "code",
   "execution_count": 4,
   "metadata": {},
   "outputs": [],
   "source": [
    "import time\n",
    "from IPython.display import clear_output"
   ]
  },
  {
   "cell_type": "markdown",
   "metadata": {},
   "source": [
    "### Load the Camera and the Neural Network!\n",
    "\n",
    "The next cell creates a camera object and also loads the pre-trained Neural Network!"
   ]
  },
  {
   "cell_type": "code",
   "execution_count": 5,
   "metadata": {},
   "outputs": [],
   "source": [
    "camera = CameraRGB()\n",
    "\n",
    "model = load_model(\"model_01.hdf5\")"
   ]
  },
  {
   "cell_type": "markdown",
   "metadata": {},
   "source": [
    "### Create the Processing Functions\n",
    "\n",
    "This next cell creates several functions to do the various steps of preprocessing. Read each function's docstring to learn what each function does."
   ]
  },
  {
   "cell_type": "code",
   "execution_count": 6,
   "metadata": {},
   "outputs": [],
   "source": [
    "from preprocessing import preprocess\n",
    "\n",
    "\n",
    "def capture_preprocess_and_stream():\n",
    "    \"\"\"\n",
    "    Captures, preprocesses, and streams an image from the camera. Returns the data that will be used\n",
    "    by the Neural Network.\n",
    "    \"\"\"\n",
    "    frame = camera.capture()\n",
    "    frame_edge, frame_feats = preprocess(frame)\n",
    "    car.stream(frame_edge, verbose=False)    # , to_labs=True\n",
    "    return frame_feats\n",
    "\n",
    "def make_prediction(frame_feats):\n",
    "    \"\"\"\n",
    "    Use the Neural Network model to make a prediction for the angle of the wheels.\n",
    "    \"\"\"\n",
    "    prediction = model.predict(frame_feats)[0][0]\n",
    "    extremized_predition = prediction * 180.        # combat regression toward the mean\n",
    "    return float(extremized_predition)              # convert from np.float to python's float\n",
    "\n",
    "def loop_once():\n",
    "    \"\"\"\n",
    "    Run one \"loop\" of the control algorithm, which does the following:\n",
    "    1. Captures, preprocesses, and streams an image from the camera.\n",
    "    2. Makes a prediction for the angle of the wheels, based on that image from the camera.\n",
    "    3. Drives the car for a fraction of a second using that predicted angle.\n",
    "    \"\"\"\n",
    "    frame_feats = capture_preprocess_and_stream()\n",
    "    steering_angle = make_prediction(frame_feats)\n",
    "    set_steering(steering_angle)\n",
    "    clear_output(True)\n",
    "    print(\"Angle:\", steering_angle)\n",
    "    set_throttle(CAR_THROTTLE_FORWARD_SAFE_SPEED)\n",
    "    time.sleep(0.2)\n",
    "    set_throttle(0)\n",
    "    time.sleep(0.05)"
   ]
  },
  {
   "cell_type": "markdown",
   "metadata": {},
   "source": [
    "### Finally, Drive the Car!"
   ]
  },
  {
   "cell_type": "code",
   "execution_count": 7,
   "metadata": {},
   "outputs": [
    {
     "name": "stdout",
     "output_type": "stream",
     "text": [
      "Angle: -0.42884825728833675\n"
     ]
    }
   ],
   "source": [
    "# We loop forever (via a while loop), and call `loop_once()` for each iteration.\n",
    "try:\n",
    "    while True:\n",
    "        loop_once()\n",
    "\n",
    "except KeyboardInterrupt:\n",
    "    # This exception is raised and caught here when you press the STOP button.\n",
    "    pass\n",
    "\n",
    "\n",
    "# Since we're done with the loop above, ensure that the car stops by setting\n",
    "# the throttle and steering below:\n",
    "set_throttle(0)\n",
    "set_steering(0)"
   ]
  },
  {
   "cell_type": "code",
   "execution_count": null,
   "metadata": {},
   "outputs": [],
   "source": []
  }
 ],
 "metadata": {
  "kernelspec": {
   "display_name": "Python3.5_Tensorflow",
   "language": "python",
   "name": "python3.5_tensorflow"
  },
  "language_info": {
   "codemirror_mode": {
    "name": "ipython",
    "version": 3
   },
   "file_extension": ".py",
   "mimetype": "text/x-python",
   "name": "python",
   "nbconvert_exporter": "python",
   "pygments_lexer": "ipython3",
   "version": "3.5.6"
  }
 },
 "nbformat": 4,
 "nbformat_minor": 2
}
