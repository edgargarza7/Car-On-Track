{
 "cells": [
  {
   "cell_type": "markdown",
   "metadata": {},
   "source": [
    "# _AutoAuto_ Self-driving Car\n",
    "\n",
    "Let's use _Machine Learning_ (specifically, an _Artificial Neural Network_) to drive the _AutoAuto_ car around a track.\n",
    "\n",
    "![](images/car.jpg)"
   ]
  },
  {
   "cell_type": "markdown",
   "metadata": {},
   "source": [
    "### What is Machine Learning?\n",
    "\n",
    "_Machine Learning_ (ML) is a subfield of _Artificial Intelligence_. ML algorithms use training data to learn patters. **We** write the learning algorithm, then we feed training data into the algorithm so that it can \"learn\".\n",
    "\n",
    "ML is useful for:\n",
    "1. Having our computers detect patters which we humans **can't** detect, or\n",
    "2. Having our computers do tasks which are **boring** for us to do.\n",
    "\n",
    "Read more on [Wikipedia](https://en.wikipedia.org/wiki/Machine_learning).\n",
    "\n",
    "![](images/ml.jpg)"
   ]
  },
  {
   "cell_type": "markdown",
   "metadata": {},
   "source": [
    "### Training Data\n",
    "\n",
    "We collected over 8,000 images by manually driving the car around on the track. Every time an image was taken, the angle of the wheels was also recorded! That means we have over 8,000 image/angle pairs which were used to train the machine learning algorithm.\n",
    "\n",
    "Here are a few examples from the training set. The number above each image denotes the angle of the wheels at the moment the image was taken (positive is _left_, negative is _right_).\n",
    "\n",
    "![](images/samples.png)"
   ]
  },
  {
   "cell_type": "markdown",
   "metadata": {},
   "source": [
    "### Preprocessing\n",
    "\n",
    "Before using the training images, we _preprocess_ them to remove some of the noise which is irrelevent for driving.\n",
    "\n",
    "See below how each of the examples images is preprocessed. Notice how we:\n",
    "1. crop the image,\n",
    "2. remove the color and,\n",
    "3. only keep strong edges!\n",
    "\n",
    "![](images/samples_preprocessed.png)"
   ]
  },
  {
   "cell_type": "markdown",
   "metadata": {},
   "source": [
    "### What is an Artificial Neural Network?\n",
    "\n",
    "An _Artificial Neural Network_ is one machine learning algorithm which usually does a good job of learning from image data like we have here!\n",
    "\n",
    "Neural Networks contain many little neurons which are connected together into layers. Using an algorithm nicknamed \"backprop\", the neural network learns from the training data.\n",
    "\n",
    "Read more on [Wikipedia](https://en.wikipedia.org/wiki/Machine_learning#Artificial_neural_networks).\n",
    "\n",
    "![](images/ann_alt.png)"
   ]
  },
  {
   "cell_type": "markdown",
   "metadata": {},
   "source": [
    "### Load the necessary Python libraries\n",
    "\n",
    "The next cell loads the TensorFlow library. TensorFlow is a library which does very fast numeric operations. (Thanks Google!)"
   ]
  },
  {
   "cell_type": "code",
   "execution_count": null,
   "metadata": {
    "collapsed": false
   },
   "outputs": [],
   "source": [
    "TF_NUM_THREADS = 1     # <-- the number of threads we want tensorflow to use\n",
    "\n",
    "from keras import backend as K\n",
    "import tensorflow as tf\n",
    "\n",
    "config = tf.ConfigProto(intra_op_parallelism_threads=TF_NUM_THREADS, \\\n",
    "                        inter_op_parallelism_threads=TF_NUM_THREADS, \\\n",
    "                        allow_soft_placement=True, \\\n",
    "                        device_count = {'CPU': TF_NUM_THREADS})\n",
    "session = tf.Session(config=config)\n",
    "K.set_session(session)"
   ]
  },
  {
   "cell_type": "markdown",
   "metadata": {},
   "source": [
    "The next cell loads the `OpenCV` library. OpenCV is used for doing image processing and computer vision. (Thanks Intel!)"
   ]
  },
  {
   "cell_type": "code",
   "execution_count": null,
   "metadata": {
    "collapsed": true
   },
   "outputs": [],
   "source": [
    "import numpy as np\n",
    "import cv2\n",
    "\n",
    "cv2.setNumThreads(0)   # <-- disable multithreading in opencv"
   ]
  },
  {
   "cell_type": "markdown",
   "metadata": {},
   "source": [
    "The next cell loads the car library! (Thanks AutoAuto!)"
   ]
  },
  {
   "cell_type": "code",
   "execution_count": null,
   "metadata": {
    "collapsed": false
   },
   "outputs": [],
   "source": [
    "import time\n",
    "\n",
    "import car\n",
    "from car.camera import CameraRGB\n",
    "from car import throttle\n",
    "from car import steering"
   ]
  },
  {
   "cell_type": "markdown",
   "metadata": {},
   "source": [
    "### Load the Neural Network!\n",
    "\n",
    "The next cell loads the pre-trained Neural Network!"
   ]
  },
  {
   "cell_type": "code",
   "execution_count": null,
   "metadata": {
    "collapsed": false
   },
   "outputs": [],
   "source": [
    "from keras.models import load_model\n",
    "model = load_model(\"model_01.hdf5\")"
   ]
  },
  {
   "cell_type": "markdown",
   "metadata": {},
   "source": [
    "This next cell creates functions to do the preprocessing on the image, and it starts the car's camera."
   ]
  },
  {
   "cell_type": "code",
   "execution_count": null,
   "metadata": {
    "collapsed": true
   },
   "outputs": [],
   "source": [
    "def crop(img):\n",
    "    height = 70\n",
    "    return img[-height:, :]\n",
    "\n",
    "def edges(img):\n",
    "    canny_thresh_1, canny_thresh_2 = 100, 200\n",
    "    return cv2.Canny(img, canny_thresh_1, canny_thresh_2)\n",
    "\n",
    "def preprocess(img):\n",
    "    img_edge = edges(crop(img))\n",
    "    img_edge = np.expand_dims(img_edge, 2)\n",
    "    img_edge = np.array(img_edge, dtype=np.float32) / 255.0\n",
    "    return img_edge\n",
    "\n",
    "camera = CameraRGB(height=128, width=160, fps=8)"
   ]
  },
  {
   "cell_type": "markdown",
   "metadata": {},
   "source": [
    "### Finally, Drive the Car!"
   ]
  },
  {
   "cell_type": "code",
   "execution_count": null,
   "metadata": {
    "collapsed": false
   },
   "outputs": [],
   "source": [
    "from IPython.display import clear_output\n",
    "\n",
    "throttle.set_throttle(0)\n",
    "steering.set_steering(0)\n",
    "\n",
    "try:\n",
    "    while True:\n",
    "        frame = camera.capture()\n",
    "        car.stream(frame)\n",
    "        frame = preprocess(frame)\n",
    "        steering_angle = model.predict(np.array([frame]))[0][0] * 90.\n",
    "        steering.set_steering(steering_angle)\n",
    "        clear_output(True)\n",
    "        print(\"Angle:\", steering_angle)\n",
    "        throttle.set_throttle(50)\n",
    "        time.sleep(0.25)\n",
    "        throttle.set_throttle(0)\n",
    "        time.sleep(0.05)\n",
    "\n",
    "except KeyboardInterrupt:\n",
    "    pass\n",
    "\n",
    "throttle.set_throttle(0)\n",
    "steering.set_steering(0)"
   ]
  },
  {
   "cell_type": "code",
   "execution_count": null,
   "metadata": {
    "collapsed": true
   },
   "outputs": [],
   "source": []
  },
  {
   "cell_type": "code",
   "execution_count": null,
   "metadata": {
    "collapsed": true
   },
   "outputs": [],
   "source": []
  },
  {
   "cell_type": "code",
   "execution_count": null,
   "metadata": {
    "collapsed": true
   },
   "outputs": [],
   "source": []
  },
  {
   "cell_type": "code",
   "execution_count": null,
   "metadata": {
    "collapsed": true
   },
   "outputs": [],
   "source": []
  },
  {
   "cell_type": "code",
   "execution_count": null,
   "metadata": {
    "collapsed": true
   },
   "outputs": [],
   "source": []
  },
  {
   "cell_type": "code",
   "execution_count": null,
   "metadata": {
    "collapsed": true
   },
   "outputs": [],
   "source": []
  },
  {
   "cell_type": "code",
   "execution_count": null,
   "metadata": {
    "collapsed": true
   },
   "outputs": [],
   "source": []
  },
  {
   "cell_type": "code",
   "execution_count": null,
   "metadata": {
    "collapsed": true
   },
   "outputs": [],
   "source": []
  },
  {
   "cell_type": "code",
   "execution_count": null,
   "metadata": {
    "collapsed": true
   },
   "outputs": [],
   "source": []
  },
  {
   "cell_type": "code",
   "execution_count": null,
   "metadata": {
    "collapsed": true
   },
   "outputs": [],
   "source": []
  },
  {
   "cell_type": "markdown",
   "metadata": {
    "collapsed": true
   },
   "source": [
    "# Appendix -- Do not present this."
   ]
  },
  {
   "cell_type": "markdown",
   "metadata": {},
   "source": [
    "The code below is used to make a nice plot showing some example images from the training set + the same images after preprocessing."
   ]
  },
  {
   "cell_type": "code",
   "execution_count": null,
   "metadata": {
    "collapsed": false
   },
   "outputs": [],
   "source": [
    "import cv2\n",
    "import numpy as np\n",
    "import matplotlib.pyplot as plt\n",
    "%matplotlib inline\n",
    "import random\n",
    "\n",
    "with open(\"data4/X32.npy\", 'rb') as f:\n",
    "    X = np.load(f)\n",
    "with open(\"data4/y32.npy\", 'rb') as f:\n",
    "    y = np.load(f)\n",
    "    \n",
    "print(X.shape)\n",
    "\n",
    "p = [613, 785, 494, 755, 791]  # np.random.permutation(len(X))[:5]\n",
    "print(p)\n",
    "fig, axes = plt.subplots(1, 5, figsize=(15,5))\n",
    "\n",
    "white = (np.ones((40, 160, 3)) * 255).astype(np.uint8)\n",
    "\n",
    "for img, label, ax in zip(X[p] ,y[p], axes.flatten()):\n",
    "    pcd = np.array(cv2.cvtColor(preprocess(img) * 255., cv2.COLOR_GRAY2RGB), dtype=np.uint8)\n",
    "    ax.imshow(np.concatenate((img, white, pcd), axis=0))\n",
    "    ax.axis('off')\n",
    "    ax.set_title(str(int(round(label))))\n",
    "\n",
    "fig.suptitle(\"5 Example Training Images\")"
   ]
  },
  {
   "cell_type": "code",
   "execution_count": null,
   "metadata": {
    "collapsed": true
   },
   "outputs": [],
   "source": []
  }
 ],
 "metadata": {
  "kernelspec": {
   "display_name": "Python 3",
   "language": "python",
   "name": "python3"
  },
  "language_info": {
   "codemirror_mode": {
    "name": "ipython",
    "version": 3
   },
   "file_extension": ".py",
   "mimetype": "text/x-python",
   "name": "python",
   "nbconvert_exporter": "python",
   "pygments_lexer": "ipython3",
   "version": "3.4.2"
  }
 },
 "nbformat": 4,
 "nbformat_minor": 2
}
